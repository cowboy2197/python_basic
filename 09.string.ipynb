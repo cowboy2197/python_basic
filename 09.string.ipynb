{
 "cells": [
  {
   "cell_type": "markdown",
   "id": "5ab6d1bf",
   "metadata": {},
   "source": [
    "# 1. check palindrome\n",
    "ex- abcba- true\n",
    "    abca-false"
   ]
  },
  {
   "cell_type": "code",
   "execution_count": 2,
   "id": "c03eb3bb",
   "metadata": {},
   "outputs": [
    {
     "name": "stdout",
     "output_type": "stream",
     "text": [
      "abvba\n"
     ]
    },
    {
     "data": {
      "text/plain": [
       "True"
      ]
     },
     "execution_count": 2,
     "metadata": {},
     "output_type": "execute_result"
    }
   ],
   "source": [
    "def checkPalindrome(s):\n",
    "    rev=s[-1::-1]\n",
    "    if(s==rev):\n",
    "        return True\n",
    "    else:\n",
    "        return False\n",
    "s=input()\n",
    "checkPalindrome(s)"
   ]
  },
  {
   "cell_type": "markdown",
   "id": "9fc8d21b",
   "metadata": {},
   "source": [
    "# 2. check permutation\n",
    " length must be same and same set of letters"
   ]
  },
  {
   "cell_type": "code",
   "execution_count": 5,
   "id": "d29ce8a2",
   "metadata": {},
   "outputs": [
    {
     "name": "stdout",
     "output_type": "stream",
     "text": [
      "abc\n",
      "cba\n"
     ]
    },
    {
     "data": {
      "text/plain": [
       "True"
      ]
     },
     "execution_count": 5,
     "metadata": {},
     "output_type": "execute_result"
    }
   ],
   "source": [
    "def checkPermutation(str1,str2):\n",
    "    if(len(str1) != len(str2)):\n",
    "        return False\n",
    "    noOfChar=256\n",
    "    count1=[0]*noOfChar\n",
    "    count2=[0]*noOfChar\n",
    "#     put value of no char in char array count\n",
    "    for i in str1:\n",
    "        count1[ord(i)]+=1\n",
    "    for i in str2:\n",
    "        count2[ord(i)]+=1\n",
    "    for i in range(noOfChar):\n",
    "        if(count1[i]!=count2[i]):\n",
    "            return False\n",
    "    return True\n",
    "str1=input()\n",
    "str2=input()\n",
    "checkPermutation(str1,str2)"
   ]
  },
  {
   "cell_type": "markdown",
   "id": "19c0fd6b",
   "metadata": {},
   "source": [
    "# 3. remove consecutive duplicates\n",
    "ex- aaaabccccd=abcd"
   ]
  },
  {
   "cell_type": "code",
   "execution_count": 10,
   "id": "aa53ebec",
   "metadata": {},
   "outputs": [
    {
     "name": "stdout",
     "output_type": "stream",
     "text": [
      "aaabbbccc\n"
     ]
    },
    {
     "ename": "TypeError",
     "evalue": "'str' object does not support item assignment",
     "output_type": "error",
     "traceback": [
      "\u001b[1;31m---------------------------------------------------------------------------\u001b[0m",
      "\u001b[1;31mTypeError\u001b[0m                                 Traceback (most recent call last)",
      "\u001b[1;32m~\\AppData\\Local\\Temp/ipykernel_6292/4021758709.py\u001b[0m in \u001b[0;36m<module>\u001b[1;34m\u001b[0m\n\u001b[0;32m     11\u001b[0m     \u001b[1;32mreturn\u001b[0m \u001b[0mstr1\u001b[0m\u001b[1;33m\u001b[0m\u001b[1;33m\u001b[0m\u001b[0m\n\u001b[0;32m     12\u001b[0m \u001b[0mstr1\u001b[0m\u001b[1;33m=\u001b[0m\u001b[0minput\u001b[0m\u001b[1;33m(\u001b[0m\u001b[1;33m)\u001b[0m\u001b[1;33m\u001b[0m\u001b[1;33m\u001b[0m\u001b[0m\n\u001b[1;32m---> 13\u001b[1;33m \u001b[0mremoveConsecutive\u001b[0m\u001b[1;33m(\u001b[0m\u001b[0mstr1\u001b[0m\u001b[1;33m)\u001b[0m\u001b[1;33m\u001b[0m\u001b[1;33m\u001b[0m\u001b[0m\n\u001b[0m",
      "\u001b[1;32m~\\AppData\\Local\\Temp/ipykernel_6292/4021758709.py\u001b[0m in \u001b[0;36mremoveConsecutive\u001b[1;34m(str1)\u001b[0m\n\u001b[0;32m      7\u001b[0m         \u001b[1;32mif\u001b[0m\u001b[1;33m(\u001b[0m\u001b[0mstr1\u001b[0m\u001b[1;33m[\u001b[0m\u001b[0mcurrIndex\u001b[0m\u001b[1;33m]\u001b[0m\u001b[1;33m!=\u001b[0m\u001b[0mstr1\u001b[0m\u001b[1;33m[\u001b[0m\u001b[0mi\u001b[0m\u001b[1;33m]\u001b[0m\u001b[1;33m)\u001b[0m\u001b[1;33m:\u001b[0m\u001b[1;33m\u001b[0m\u001b[1;33m\u001b[0m\u001b[0m\n\u001b[0;32m      8\u001b[0m             \u001b[0mcurrIndex\u001b[0m\u001b[1;33m+=\u001b[0m\u001b[1;36m1\u001b[0m\u001b[1;33m\u001b[0m\u001b[1;33m\u001b[0m\u001b[0m\n\u001b[1;32m----> 9\u001b[1;33m             \u001b[0mstr1\u001b[0m\u001b[1;33m[\u001b[0m\u001b[0mcurrIndex\u001b[0m\u001b[1;33m]\u001b[0m\u001b[1;33m=\u001b[0m\u001b[0mstr1\u001b[0m\u001b[1;33m[\u001b[0m\u001b[0mi\u001b[0m\u001b[1;33m]\u001b[0m\u001b[1;33m\u001b[0m\u001b[1;33m\u001b[0m\u001b[0m\n\u001b[0m\u001b[0;32m     10\u001b[0m     \u001b[0mstr1\u001b[0m\u001b[1;33m=\u001b[0m\u001b[0mstr1\u001b[0m\u001b[1;33m[\u001b[0m\u001b[1;33m:\u001b[0m\u001b[0mcurrIndex\u001b[0m\u001b[1;33m+\u001b[0m\u001b[1;36m1\u001b[0m\u001b[1;33m]\u001b[0m\u001b[1;33m\u001b[0m\u001b[1;33m\u001b[0m\u001b[0m\n\u001b[0;32m     11\u001b[0m     \u001b[1;32mreturn\u001b[0m \u001b[0mstr1\u001b[0m\u001b[1;33m\u001b[0m\u001b[1;33m\u001b[0m\u001b[0m\n",
      "\u001b[1;31mTypeError\u001b[0m: 'str' object does not support item assignment"
     ]
    }
   ],
   "source": [
    "def removeConsecutive(str1):\n",
    "    length=len(str1)\n",
    "    if(length<2):\n",
    "        return str1\n",
    "    currIndex=0\n",
    "    for i in range(length):\n",
    "        if(str1[currIndex]!=str1[i]):\n",
    "            currIndex+=1\n",
    "            str1[currIndex]=str1[i]\n",
    "    str1=str1[:currIndex+1]\n",
    "    return str1\n",
    "str1=input()\n",
    "removeConsecutive(str1)"
   ]
  }
 ],
 "metadata": {
  "kernelspec": {
   "display_name": "Python 3 (ipykernel)",
   "language": "python",
   "name": "python3"
  },
  "language_info": {
   "codemirror_mode": {
    "name": "ipython",
    "version": 3
   },
   "file_extension": ".py",
   "mimetype": "text/x-python",
   "name": "python",
   "nbconvert_exporter": "python",
   "pygments_lexer": "ipython3",
   "version": "3.9.7"
  }
 },
 "nbformat": 4,
 "nbformat_minor": 5
}
