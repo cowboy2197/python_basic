{
 "cells": [
  {
   "cell_type": "markdown",
   "id": "8760a6d7",
   "metadata": {},
   "source": [
    "# 1. print the binary pattern\n",
    "            11111\n",
    "            0000\n",
    "            111\n",
    "            00\n",
    "            1"
   ]
  },
  {
   "cell_type": "code",
   "execution_count": 2,
   "id": "75112095",
   "metadata": {},
   "outputs": [
    {
     "name": "stdout",
     "output_type": "stream",
     "text": [
      "enter the no of rows to print: 5\n",
      "11111\n",
      "0000\n",
      "111\n",
      "00\n",
      "1\n"
     ]
    }
   ],
   "source": [
    "n=int(input('enter the no of rows to print: '))\n",
    "value=1\n",
    "for i in range(1,n+1):\n",
    "    for j in range(1,n-i+1+1):\n",
    "        print(value,end=\"\")\n",
    "    if(value==1):\n",
    "        value=0\n",
    "    else:\n",
    "        value=1\n",
    "    print()"
   ]
  }
 ],
 "metadata": {
  "kernelspec": {
   "display_name": "Python 3 (ipykernel)",
   "language": "python",
   "name": "python3"
  },
  "language_info": {
   "codemirror_mode": {
    "name": "ipython",
    "version": 3
   },
   "file_extension": ".py",
   "mimetype": "text/x-python",
   "name": "python",
   "nbconvert_exporter": "python",
   "pygments_lexer": "ipython3",
   "version": "3.9.7"
  }
 },
 "nbformat": 4,
 "nbformat_minor": 5
}
