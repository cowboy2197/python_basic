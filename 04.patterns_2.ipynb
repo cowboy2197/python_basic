{
 "cells": [
  {
   "cell_type": "markdown",
   "id": "cfd46a8e",
   "metadata": {},
   "source": [
    "# 1. print the pattern        \n",
    "        1\n",
    "       212\n",
    "      32123\n",
    "     4321234\n",
    "    543212345"
   ]
  },
  {
   "cell_type": "code",
   "execution_count": 6,
   "id": "8f05524c",
   "metadata": {},
   "outputs": [
    {
     "name": "stdout",
     "output_type": "stream",
     "text": [
      "enter the no of rows: 5\n",
      "    1\n",
      "   212\n",
      "  32123\n",
      " 4321234\n",
      "543212345\n"
     ]
    }
   ],
   "source": [
    "n=int(input('enter the no of rows: '))\n",
    "for i in range(1,n+1):\n",
    "#first print the space\n",
    "    for j1 in range(1,n-i+1):\n",
    "        print(\" \",end=\"\")\n",
    "# second print the no in increasing order upto 1\n",
    "    value=i\n",
    "    for j2 in range(1,i+1):\n",
    "        print(value,end=\"\")\n",
    "        value-=1\n",
    "# third print the no in decreasing order start from 2\n",
    "    value+=2\n",
    "    for j3 in range(1,i):\n",
    "        print(value,end=\"\")\n",
    "        value+=1\n",
    "    print()"
   ]
  }
 ],
 "metadata": {
  "kernelspec": {
   "display_name": "Python 3 (ipykernel)",
   "language": "python",
   "name": "python3"
  },
  "language_info": {
   "codemirror_mode": {
    "name": "ipython",
    "version": 3
   },
   "file_extension": ".py",
   "mimetype": "text/x-python",
   "name": "python",
   "nbconvert_exporter": "python",
   "pygments_lexer": "ipython3",
   "version": "3.9.7"
  }
 },
 "nbformat": 4,
 "nbformat_minor": 5
}
