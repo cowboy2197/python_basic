{
 "cells": [
  {
   "cell_type": "markdown",
   "id": "e3050efd",
   "metadata": {},
   "source": [
    "# 1. find average"
   ]
  },
  {
   "cell_type": "code",
   "execution_count": 2,
   "id": "4c036fc0",
   "metadata": {},
   "outputs": [
    {
     "name": "stdout",
     "output_type": "stream",
     "text": [
      "enter value for a: 1\n",
      "enter value for b: 2\n",
      "enter value for c: 3\n",
      "average is:  2.0\n"
     ]
    }
   ],
   "source": [
    "a=int(input('enter value for a: '))\n",
    "b=int(input('enter value for b: '))\n",
    "c=int(input('enter value for c: '))\n",
    "average=(a+b+c)/3\n",
    "print('average is: ',average)"
   ]
  }
 ],
 "metadata": {
  "kernelspec": {
   "display_name": "Python 3 (ipykernel)",
   "language": "python",
   "name": "python3"
  },
  "language_info": {
   "codemirror_mode": {
    "name": "ipython",
    "version": 3
   },
   "file_extension": ".py",
   "mimetype": "text/x-python",
   "name": "python",
   "nbconvert_exporter": "python",
   "pygments_lexer": "ipython3",
   "version": "3.9.7"
  }
 },
 "nbformat": 4,
 "nbformat_minor": 5
}
