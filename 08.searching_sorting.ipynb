{
 "cells": [
  {
   "cell_type": "markdown",
   "id": "e141acf3",
   "metadata": {},
   "source": [
    "# 1. binary serach- on sorted list"
   ]
  },
  {
   "cell_type": "code",
   "execution_count": 2,
   "id": "f4dff291",
   "metadata": {},
   "outputs": [
    {
     "name": "stdout",
     "output_type": "stream",
     "text": [
      "input no to find in the list: 10\n",
      "1 4 6 7 9 10 15 33 59 100 234 599 600\n"
     ]
    },
    {
     "data": {
      "text/plain": [
       "6"
      ]
     },
     "execution_count": 2,
     "metadata": {},
     "output_type": "execute_result"
    }
   ],
   "source": [
    "def binarySearch(li,x):\n",
    "    length=len(li)\n",
    "    start,mid,end=0,length//2,length-1\n",
    "    while start<=end:\n",
    "        if(li[mid]==x):\n",
    "            return mid+1\n",
    "        elif(x<li[mid]):\n",
    "            end=mid-1\n",
    "            mid=(start+end)//2\n",
    "        else:\n",
    "            start=mid+1\n",
    "            mid=(start+end)//2\n",
    "    return -1\n",
    "no=int(input('input no to find in the list: '))\n",
    "li=[int(ele) for ele in input().split()]\n",
    "binarySearch(li,no)"
   ]
  },
  {
   "cell_type": "markdown",
   "id": "5564202d",
   "metadata": {},
   "source": [
    "# 2. selection sort"
   ]
  },
  {
   "cell_type": "code",
   "execution_count": 8,
   "id": "d4db5700",
   "metadata": {},
   "outputs": [
    {
     "name": "stdout",
     "output_type": "stream",
     "text": [
      "1 44 23 55 24 89 97 25 29 277 199\n"
     ]
    },
    {
     "data": {
      "text/plain": [
       "[1, 23, 24, 25, 29, 44, 55, 89, 97, 199, 277]"
      ]
     },
     "execution_count": 8,
     "metadata": {},
     "output_type": "execute_result"
    }
   ],
   "source": [
    "def selectionSort(li):\n",
    "    for i in range(0,len(li)-1):\n",
    "        smallestIndex=i\n",
    "        for j in range(i+1,len(li)):\n",
    "            if(li[j]<li[smallestIndex]):\n",
    "                smallestIndex=j\n",
    "        li[i],li[smallestIndex]=li[smallestIndex],li[i]\n",
    "    return li\n",
    "li=[int(ele) for ele in input().split()]\n",
    "selectionSort(li)"
   ]
  },
  {
   "cell_type": "markdown",
   "id": "b026e043",
   "metadata": {},
   "source": [
    "# 3. bubble sort"
   ]
  },
  {
   "cell_type": "code",
   "execution_count": 12,
   "id": "b869ff1b",
   "metadata": {},
   "outputs": [
    {
     "name": "stdout",
     "output_type": "stream",
     "text": [
      "9 8 7 6 5 4\n"
     ]
    },
    {
     "data": {
      "text/plain": [
       "[4, 5, 6, 7, 8, 9]"
      ]
     },
     "execution_count": 12,
     "metadata": {},
     "output_type": "execute_result"
    }
   ],
   "source": [
    "def bubbleSort(li):\n",
    "    length=len(li)\n",
    "    for i in range(length,0,-1):\n",
    "        for j in range(1,i):\n",
    "            if(li[j]<li[j-1]):\n",
    "                li[j],li[j-1]=li[j-1],li[j]\n",
    "    return li\n",
    "li=[int(ele) for ele in input().split()]\n",
    "bubbleSort(li)"
   ]
  },
  {
   "cell_type": "markdown",
   "id": "b4b2b5a6",
   "metadata": {},
   "source": [
    "# 4. insertion sort"
   ]
  },
  {
   "cell_type": "code",
   "execution_count": 16,
   "id": "b1f63918",
   "metadata": {},
   "outputs": [
    {
     "name": "stdout",
     "output_type": "stream",
     "text": [
      "5 4 3 2\n"
     ]
    },
    {
     "data": {
      "text/plain": [
       "[2, 3, 4, 5]"
      ]
     },
     "execution_count": 16,
     "metadata": {},
     "output_type": "execute_result"
    }
   ],
   "source": [
    "def insertionSort(li):\n",
    "    length=len(li)\n",
    "    for i in range(1,length):\n",
    "        key=li[i]\n",
    "        j=i-1\n",
    "        while j>=0 and key<li[j]:\n",
    "            li[j+1]=li[j]\n",
    "            j-=1 \n",
    "        li[j+1]=key\n",
    "    return li\n",
    "    \n",
    "li=[int(ele) for ele in input().split()]\n",
    "insertionSort(li)"
   ]
  },
  {
   "cell_type": "markdown",
   "id": "3a5ae25c",
   "metadata": {},
   "source": [
    "# 5. merge sort\n",
    "        3 parts\n",
    "     break into 2 halves\n",
    "     sort the two halves\n",
    "     merge two halves back to original"
   ]
  },
  {
   "cell_type": "code",
   "execution_count": 3,
   "id": "efcd2592",
   "metadata": {},
   "outputs": [
    {
     "name": "stdout",
     "output_type": "stream",
     "text": [
      "1\n"
     ]
    },
    {
     "data": {
      "text/plain": [
       "[1]"
      ]
     },
     "execution_count": 3,
     "metadata": {},
     "output_type": "execute_result"
    }
   ],
   "source": [
    "def mergeSort(li):\n",
    "#     base case\n",
    "    if(len(li)==1):\n",
    "        return li\n",
    "#     break into two halves\n",
    "    mid=len(li)//2\n",
    "    length=len(li)\n",
    "    firstPart=mergeSort(li[:mid])\n",
    "    secondPart=mergeSort(li[mid:])\n",
    "#    merge the two halves\n",
    "    li=mergeSorted(firstPart,secondPart)\n",
    "    return li\n",
    "def mergeSorted(li1,li2):\n",
    "    length1=len(li1)\n",
    "    length2=len(li2)\n",
    "    li=[];i=0;j=0\n",
    "    while i<length1 and j<length2:\n",
    "        if(li1[i]<=li2[j]):\n",
    "            li.append(li1[i])\n",
    "            i+=1\n",
    "        else:\n",
    "            li.append(li2[j])\n",
    "            j+=1\n",
    "    while i<length1:\n",
    "        li.append(li1[i])\n",
    "        i+=1\n",
    "    while j<length2:\n",
    "        li.append(li2[j])\n",
    "        j+=1\n",
    "    return li\n",
    "li=[int(ele) for ele in input().split()]\n",
    "mergeSort(li)"
   ]
  }
 ],
 "metadata": {
  "kernelspec": {
   "display_name": "Python 3 (ipykernel)",
   "language": "python",
   "name": "python3"
  },
  "language_info": {
   "codemirror_mode": {
    "name": "ipython",
    "version": 3
   },
   "file_extension": ".py",
   "mimetype": "text/x-python",
   "name": "python",
   "nbconvert_exporter": "python",
   "pygments_lexer": "ipython3",
   "version": "3.9.7"
  }
 },
 "nbformat": 4,
 "nbformat_minor": 5
}
