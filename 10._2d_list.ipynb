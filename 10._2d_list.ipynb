{
 "cells": [
  {
   "cell_type": "markdown",
   "id": "3d920009",
   "metadata": {},
   "source": [
    "# 1.row wise sum ,print row sum"
   ]
  },
  {
   "cell_type": "code",
   "execution_count": 9,
   "id": "f29d5b4f",
   "metadata": {},
   "outputs": [
    {
     "name": "stdout",
     "output_type": "stream",
     "text": [
      "2 3\n",
      "1 2 3\n",
      "4 5 6\n",
      "[6, 15]\n"
     ]
    }
   ],
   "source": [
    "s=input().split()\n",
    "row,col=int(s[0]),int(s[1])\n",
    "# input row wise\n",
    "li1=[[int(ele) for ele in input().split()] for i in range(row)]\n",
    "# input in one line\n",
    "# print('please input',row,'*',col,'values')\n",
    "# arr=input().split()\n",
    "# li2=[[int(arr[col*rowno+colno]) for colno in range(col)] for rowno in range(row)]\n",
    "li3=[]\n",
    "for i in li1:\n",
    "    sum=0\n",
    "    for j in i:\n",
    "        sum+=j\n",
    "    li3.append(sum)\n",
    "print(li3)"
   ]
  },
  {
   "cell_type": "markdown",
   "id": "f95f489e",
   "metadata": {},
   "source": [
    "# 2. largest row or column\n",
    " for given n*m list find which row or col has largest sum\n",
    "         \n",
    "         3 6 9\n",
    "         1 4 7\n",
    "         2 8 9\n",
    "         =col 2 25"
   ]
  },
  {
   "cell_type": "code",
   "execution_count": null,
   "id": "5c5a3285",
   "metadata": {},
   "outputs": [],
   "source": [
    "# def largestRowCol(li):\n",
    "#     rowSum=[0]*len(li)\n",
    "#     colSum=[0]*len(li[0])\n",
    "#     for i in range(len(rowSum)):\n",
    "#         for j in range(len(colSum)):\n",
    "#             col[j]+=li[i][j]\n",
    "#         for j in range(len(rowSum)):\n",
    "#             row[j]+=li[i][]"
   ]
  }
 ],
 "metadata": {
  "kernelspec": {
   "display_name": "Python 3 (ipykernel)",
   "language": "python",
   "name": "python3"
  },
  "language_info": {
   "codemirror_mode": {
    "name": "ipython",
    "version": 3
   },
   "file_extension": ".py",
   "mimetype": "text/x-python",
   "name": "python",
   "nbconvert_exporter": "python",
   "pygments_lexer": "ipython3",
   "version": "3.9.7"
  }
 },
 "nbformat": 4,
 "nbformat_minor": 5
}
