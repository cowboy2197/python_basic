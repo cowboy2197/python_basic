{
 "cells": [
  {
   "cell_type": "markdown",
   "id": "47037493",
   "metadata": {},
   "source": [
    "# 1. print squrare patter for no n"
   ]
  },
  {
   "cell_type": "code",
   "execution_count": 1,
   "id": "4664996c",
   "metadata": {},
   "outputs": [
    {
     "name": "stdout",
     "output_type": "stream",
     "text": [
      "enter a no n: 4\n",
      "4 4 4 4 \n",
      "4 4 4 4 \n",
      "4 4 4 4 \n",
      "4 4 4 4 \n"
     ]
    }
   ],
   "source": [
    "n=int(input('enter a no n: '))\n",
    "for i in range(n):\n",
    "    for j in range(n):\n",
    "        print(n,end=\" \")\n",
    "    print()"
   ]
  },
  {
   "cell_type": "markdown",
   "id": "58a6908f",
   "metadata": {},
   "source": [
    "# 2. traingular start pattern"
   ]
  },
  {
   "cell_type": "code",
   "execution_count": 6,
   "id": "ed170fa9",
   "metadata": {},
   "outputs": [
    {
     "name": "stdout",
     "output_type": "stream",
     "text": [
      "enter a no n: 5\n",
      "*\n",
      "**\n",
      "***\n",
      "****\n",
      "*****\n"
     ]
    }
   ],
   "source": [
    "n=int(input('enter a no n: '))\n",
    "for i in range(n):\n",
    "    for j in range(i+1):\n",
    "        print(\"*\",end=\"\")\n",
    "    print()"
   ]
  },
  {
   "cell_type": "markdown",
   "id": "d32578d3",
   "metadata": {},
   "source": [
    "# 3. traingular no pattern"
   ]
  },
  {
   "cell_type": "code",
   "execution_count": 10,
   "id": "99c69ee7",
   "metadata": {},
   "outputs": [
    {
     "name": "stdout",
     "output_type": "stream",
     "text": [
      "enter the value of n: 5\n",
      "1 \n",
      "2 2 \n",
      "3 3 3 \n",
      "4 4 4 4 \n",
      "5 5 5 5 5 \n"
     ]
    }
   ],
   "source": [
    "n=int(input('enter the value of n: '))\n",
    "for i in range(1,n+1):\n",
    "    for j in range(1,i+1):\n",
    "        print(i,end=\" \")\n",
    "    print()"
   ]
  },
  {
   "cell_type": "markdown",
   "id": "e964b8de",
   "metadata": {},
   "source": [
    "# 4. reverse no pattern ex-for row 4- 4321"
   ]
  },
  {
   "cell_type": "code",
   "execution_count": 11,
   "id": "b651613e",
   "metadata": {},
   "outputs": [
    {
     "name": "stdout",
     "output_type": "stream",
     "text": [
      "enter the value of n: 5\n",
      "1 \n",
      "2 1 \n",
      "3 2 1 \n",
      "4 3 2 1 \n",
      "5 4 3 2 1 \n"
     ]
    }
   ],
   "source": [
    "n=int(input('enter the value of n: '))\n",
    "for i in range(1,n+1):\n",
    "    start=i\n",
    "    for j in range(1,i+1):\n",
    "        print(start,end=\" \")\n",
    "        start-=1\n",
    "    print()"
   ]
  },
  {
   "cell_type": "markdown",
   "id": "feebf871",
   "metadata": {},
   "source": [
    "# 5. print char patter for ex- row 3- CDE"
   ]
  },
  {
   "cell_type": "code",
   "execution_count": 25,
   "id": "bcc53e65",
   "metadata": {},
   "outputs": [
    {
     "name": "stdout",
     "output_type": "stream",
     "text": [
      "enter the value of n: 5\n",
      "65 \n",
      "66 67 \n",
      "67 68 69 \n",
      "68 69 70 71 \n",
      "69 70 71 72 73 \n"
     ]
    }
   ],
   "source": [
    "# causing error using chr so i am just printing ascii value\n",
    "n=int(input('enter the value of n: '))\n",
    "for i in range(1,n+1):\n",
    "    start=65+i-1   #chr(ord('A')+i-1)\n",
    "    for j in range(1,i+1):\n",
    "        print(start,end=\" \")\n",
    "        start+=1\n",
    "    print()"
   ]
  },
  {
   "cell_type": "markdown",
   "id": "fd079112",
   "metadata": {},
   "source": [
    "# 6. print the pattern ex- for row 5- 54321 row 4-4321"
   ]
  },
  {
   "cell_type": "code",
   "execution_count": 27,
   "id": "864ad01f",
   "metadata": {},
   "outputs": [
    {
     "name": "stdout",
     "output_type": "stream",
     "text": [
      "enter the value of n: 5\n",
      "5 4 3 2 1 \n",
      "4 3 2 1 \n",
      "3 2 1 \n",
      "2 1 \n",
      "1 \n"
     ]
    }
   ],
   "source": [
    "n=int(input('enter the value of n: '))\n",
    "for i in range(1,n+1):\n",
    "    value=n-i+1\n",
    "    for j in range(1,(n-i+1)+1):\n",
    "        print(value,end=\" \")\n",
    "        value-=1\n",
    "    print()"
   ]
  }
 ],
 "metadata": {
  "kernelspec": {
   "display_name": "Python 3 (ipykernel)",
   "language": "python",
   "name": "python3"
  },
  "language_info": {
   "codemirror_mode": {
    "name": "ipython",
    "version": 3
   },
   "file_extension": ".py",
   "mimetype": "text/x-python",
   "name": "python",
   "nbconvert_exporter": "python",
   "pygments_lexer": "ipython3",
   "version": "3.9.7"
  }
 },
 "nbformat": 4,
 "nbformat_minor": 5
}
