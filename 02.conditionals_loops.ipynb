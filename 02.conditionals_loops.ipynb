{
 "cells": [
  {
   "cell_type": "markdown",
   "id": "e22f366c",
   "metadata": {},
   "source": [
    "# 1.check positive negative zero"
   ]
  },
  {
   "cell_type": "code",
   "execution_count": 1,
   "id": "c518a90b",
   "metadata": {},
   "outputs": [
    {
     "name": "stdout",
     "output_type": "stream",
     "text": [
      "enter a no: 10\n",
      "positive\n"
     ]
    }
   ],
   "source": [
    "no=int(input('enter a no: '))\n",
    "if(no>0):\n",
    "    print('positive')\n",
    "elif(no==0):\n",
    "    print('zero')\n",
    "else:\n",
    "    print('negative')"
   ]
  },
  {
   "cell_type": "markdown",
   "id": "a7934281",
   "metadata": {},
   "source": [
    "# 2. print sum upto n"
   ]
  },
  {
   "cell_type": "code",
   "execution_count": 4,
   "id": "ca49ca3d",
   "metadata": {},
   "outputs": [
    {
     "name": "stdout",
     "output_type": "stream",
     "text": [
      "enter a no: 5\n",
      "sum upto n is:  15\n"
     ]
    }
   ],
   "source": [
    "n=int(input('enter a no: '))\n",
    "sum=0;\n",
    "while n>0:\n",
    "    sum=sum+n\n",
    "    n-=1\n",
    "print('sum upto n is: ',sum)"
   ]
  },
  {
   "cell_type": "markdown",
   "id": "df727dbe",
   "metadata": {},
   "source": [
    "# 3. sum of even no upto n "
   ]
  },
  {
   "cell_type": "code",
   "execution_count": 6,
   "id": "ad27cc19",
   "metadata": {},
   "outputs": [
    {
     "name": "stdout",
     "output_type": "stream",
     "text": [
      "enter a no n: 5\n",
      "sum of even no upto n is:  6\n"
     ]
    }
   ],
   "source": [
    "n=int(input('enter a no n: '))\n",
    "sum_even=0\n",
    "count=0\n",
    "while count<n:\n",
    "    sum_even+=count\n",
    "    count+=2\n",
    "print('sum of even no upto n is: ',sum_even)"
   ]
  },
  {
   "cell_type": "markdown",
   "id": "c146b553",
   "metadata": {},
   "source": [
    "# 4. given two farenheit values convert them to celsius by given step no"
   ]
  },
  {
   "cell_type": "code",
   "execution_count": 10,
   "id": "77f82350",
   "metadata": {},
   "outputs": [
    {
     "name": "stdout",
     "output_type": "stream",
     "text": [
      "enter farenheit_1: 100\n",
      "enter farenheit_2: 200\n",
      "enter step value: 10\n",
      "100 \t 37.77777777777778\n",
      "110 \t 43.333333333333336\n",
      "120 \t 48.88888888888889\n",
      "130 \t 54.44444444444445\n",
      "140 \t 60.0\n",
      "150 \t 65.55555555555556\n",
      "160 \t 71.11111111111111\n",
      "170 \t 76.66666666666667\n",
      "180 \t 82.22222222222223\n",
      "190 \t 87.77777777777779\n"
     ]
    }
   ],
   "source": [
    "f1=int(input('enter farenheit_1: '))\n",
    "f2=int(input('enter farenheit_2: '))\n",
    "step=int(input('enter step value: '))\n",
    "currentFarenHeit=f1\n",
    "while currentFarenHeit<f2:\n",
    "    celsiusVal=(currentFarenHeit-32)*(5/9)\n",
    "    print(currentFarenHeit,'\\t',celsiusVal)\n",
    "    currentFarenHeit+=step"
   ]
  },
  {
   "cell_type": "markdown",
   "id": "2ed6a2f6",
   "metadata": {},
   "source": [
    "# 5. reverse of a no ex-120=21"
   ]
  },
  {
   "cell_type": "code",
   "execution_count": 12,
   "id": "9a577083",
   "metadata": {},
   "outputs": [
    {
     "name": "stdout",
     "output_type": "stream",
     "text": [
      "enter a no: 21300\n",
      "reverse of no is:  312\n"
     ]
    }
   ],
   "source": [
    "no=int(input('enter a no: '))\n",
    "rev=0\n",
    "while no>0:\n",
    "    rev=(rev*10)+no%10\n",
    "    no=no//10\n",
    "print('reverse of no is: ',rev)"
   ]
  },
  {
   "cell_type": "markdown",
   "id": "949ac346",
   "metadata": {},
   "source": [
    "# 6. check a no is palindrome ex-121=121 rev is same as no"
   ]
  },
  {
   "cell_type": "code",
   "execution_count": 16,
   "id": "5068ed19",
   "metadata": {},
   "outputs": [
    {
     "name": "stdout",
     "output_type": "stream",
     "text": [
      "enter a no: 12321\n",
      "no is palindrome\n"
     ]
    }
   ],
   "source": [
    "no=int(input('enter a no: '))\n",
    "rev=0\n",
    "noValue=no\n",
    "while no>0:\n",
    "    rev=(rev*10)+no%10\n",
    "    no=no//10\n",
    "if(noValue==rev):\n",
    "    print('no is palindrome')\n",
    "else:\n",
    "    print('no is not palindrome')"
   ]
  },
  {
   "cell_type": "markdown",
   "id": "15c95f4a",
   "metadata": {},
   "source": [
    "# 7. sum of even and odd digits of a no ex-12345 e=6,o=9"
   ]
  },
  {
   "cell_type": "code",
   "execution_count": 20,
   "id": "72af7cc2",
   "metadata": {},
   "outputs": [
    {
     "name": "stdout",
     "output_type": "stream",
     "text": [
      "enter a no: 12345\n",
      "sum of even is:  6\n",
      "sum of odd is:  9\n"
     ]
    }
   ],
   "source": [
    "no=int(input('enter a no: '))\n",
    "sumOdd=0;sumEven=0;\n",
    "while no>0:\n",
    "    digit=no%10\n",
    "    if(digit%2==0):\n",
    "        sumEven=sumEven+digit\n",
    "    else:\n",
    "        sumOdd=sumOdd+digit\n",
    "    no=no//10\n",
    "print('sum of even is: ',sumEven)\n",
    "print('sum of odd is: ',sumOdd)"
   ]
  }
 ],
 "metadata": {
  "kernelspec": {
   "display_name": "Python 3 (ipykernel)",
   "language": "python",
   "name": "python3"
  },
  "language_info": {
   "codemirror_mode": {
    "name": "ipython",
    "version": 3
   },
   "file_extension": ".py",
   "mimetype": "text/x-python",
   "name": "python",
   "nbconvert_exporter": "python",
   "pygments_lexer": "ipython3",
   "version": "3.9.7"
  }
 },
 "nbformat": 4,
 "nbformat_minor": 5
}
