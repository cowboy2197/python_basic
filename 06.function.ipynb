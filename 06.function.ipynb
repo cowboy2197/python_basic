{
 "cells": [
  {
   "cell_type": "markdown",
   "id": "48a69e3c",
   "metadata": {},
   "source": [
    "# 1. check armstrong no\n",
    "ex- 371-> 3^3+7^3+1^3=371"
   ]
  },
  {
   "cell_type": "code",
   "execution_count": 3,
   "id": "bda5f736",
   "metadata": {},
   "outputs": [
    {
     "name": "stdout",
     "output_type": "stream",
     "text": [
      "enter a no to check if it is armstrong no: 371\n",
      "original value= 371  armValue= 371\n"
     ]
    },
    {
     "data": {
      "text/plain": [
       "True"
      ]
     },
     "execution_count": 3,
     "metadata": {},
     "output_type": "execute_result"
    }
   ],
   "source": [
    "def checkArmstrong(n):\n",
    "    length=len(str(n))\n",
    "    originalValue=n\n",
    "    armValue=0\n",
    "    while n>0:\n",
    "        armValue+=(n%10)**length\n",
    "        n=n//10\n",
    "    print('original value=',originalValue,' armValue=',armValue)\n",
    "    if(originalValue==armValue):\n",
    "        return True\n",
    "    else:\n",
    "        return False\n",
    "no=int(input('enter a no to check if it is armstrong no: '))\n",
    "checkArmstrong(no)"
   ]
  }
 ],
 "metadata": {
  "kernelspec": {
   "display_name": "Python 3 (ipykernel)",
   "language": "python",
   "name": "python3"
  },
  "language_info": {
   "codemirror_mode": {
    "name": "ipython",
    "version": 3
   },
   "file_extension": ".py",
   "mimetype": "text/x-python",
   "name": "python",
   "nbconvert_exporter": "python",
   "pygments_lexer": "ipython3",
   "version": "3.9.7"
  }
 },
 "nbformat": 4,
 "nbformat_minor": 5
}
