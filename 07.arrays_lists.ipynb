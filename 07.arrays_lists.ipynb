{
 "cells": [
  {
   "cell_type": "markdown",
   "id": "9da825a5",
   "metadata": {},
   "source": [
    "# 1. print sum of all element of array of length n"
   ]
  },
  {
   "cell_type": "code",
   "execution_count": 1,
   "id": "45935c0d",
   "metadata": {},
   "outputs": [
    {
     "name": "stdout",
     "output_type": "stream",
     "text": [
      "enter n: 5\n",
      "1 2 3 4 5\n",
      "15\n"
     ]
    }
   ],
   "source": [
    "n=int(input('enter n: '))\n",
    "arr=[int(ele) for ele in input().split(' ')]\n",
    "sum=0\n",
    "for ele in arr:\n",
    "    sum+=ele\n",
    "print(sum)"
   ]
  },
  {
   "cell_type": "markdown",
   "id": "7b757185",
   "metadata": {},
   "source": [
    "# 2. swap alternate element in array"
   ]
  },
  {
   "cell_type": "code",
   "execution_count": 15,
   "id": "a1913895",
   "metadata": {},
   "outputs": [
    {
     "name": "stdout",
     "output_type": "stream",
     "text": [
      "9\n",
      "8\n",
      "16\n"
     ]
    }
   ],
   "source": [
    "a=9;b=10\n",
    "# for negative binary left most value added as 1\n",
    "# for ex- -3=111 \n",
    "print(b and a) # second statement print\n",
    "print(a & b) #1001 &1010=1000=8\n",
    "print(16 & -2) #10000 & 11110=10000=16"
   ]
  },
  {
   "cell_type": "code",
   "execution_count": 6,
   "id": "e9656064",
   "metadata": {},
   "outputs": [
    {
     "name": "stdout",
     "output_type": "stream",
     "text": [
      "1 2 3\n",
      "[2, 1, 3]\n"
     ]
    }
   ],
   "source": [
    "def swapAlternate(li):\n",
    "    length=len(li)&-2\n",
    "    li[0:length:2],li[1:length:2]=li[1:length:2],li[0:length:2]\n",
    "    print(li)\n",
    "li=[int(ele) for ele in input().split()]\n",
    "swapAlternate(li)"
   ]
  },
  {
   "cell_type": "markdown",
   "id": "45dd46d1",
   "metadata": {},
   "source": [
    "# 3. find unique in a list\n",
    " for ex- [1,2,3,3,1]=2\n",
    " we will user XOR operator ^\n",
    " a^b- if input bits are same return 0 else 1"
   ]
  },
  {
   "cell_type": "code",
   "execution_count": 20,
   "id": "8e70f7d8",
   "metadata": {},
   "outputs": [
    {
     "data": {
      "text/plain": [
       "10"
      ]
     },
     "execution_count": 20,
     "metadata": {},
     "output_type": "execute_result"
    }
   ],
   "source": [
    "10^11^11^20^20"
   ]
  },
  {
   "cell_type": "code",
   "execution_count": 25,
   "id": "f6681d26",
   "metadata": {},
   "outputs": [
    {
     "name": "stdout",
     "output_type": "stream",
     "text": [
      "5\n",
      "1 2 1 4 2\n",
      "4\n"
     ]
    }
   ],
   "source": [
    "n=int(input())\n",
    "li=[int(ele) for ele in input().split()]\n",
    "result=li[0]\n",
    "for i in li[1:]:\n",
    "    result=result^i\n",
    "print(result)"
   ]
  },
  {
   "cell_type": "markdown",
   "id": "fd4108f0",
   "metadata": {},
   "source": [
    "# 4. find duplicate in a list\n",
    "we will use sum=n(n+1)/2\n",
    "ex-012345,012455=15,17,  00 11 22 35 44 55  -53->2 "
   ]
  },
  {
   "cell_type": "code",
   "execution_count": 40,
   "id": "bd170daa",
   "metadata": {},
   "outputs": [
    {
     "name": "stdout",
     "output_type": "stream",
     "text": [
      "5\n",
      "0 1 2 3 3\n"
     ]
    },
    {
     "data": {
      "text/plain": [
       "3"
      ]
     },
     "execution_count": 40,
     "metadata": {},
     "output_type": "execute_result"
    }
   ],
   "source": [
    "def findDuplicate1(li):\n",
    "    length=len(li)\n",
    "    actualSum=((length)*(length-1))/2\n",
    "    listSum=0\n",
    "    for i in li:\n",
    "        listSum+=i\n",
    "    print('actualSum',actualSum)\n",
    "    print('listSum',listSum)\n",
    "    return (length-1)-abs(actualSum-listSum)\n",
    "def findDuplicate(li):\n",
    "    length=len(li)\n",
    "    for i in range(length):\n",
    "        for j in range(i+1,length):\n",
    "            if(li[i]==li[j]):\n",
    "                return li[i]\n",
    "    return -1\n",
    "    \n",
    "    \n",
    "    \n",
    "n=int(input())\n",
    "li=[int(ele) for ele in input().split()]\n",
    "findDuplicate(li)"
   ]
  },
  {
   "cell_type": "markdown",
   "id": "cb78c87d",
   "metadata": {},
   "source": [
    "# array intersection,pair sum,triplet sum,sort 01  can be solved using nested loop"
   ]
  }
 ],
 "metadata": {
  "kernelspec": {
   "display_name": "Python 3 (ipykernel)",
   "language": "python",
   "name": "python3"
  },
  "language_info": {
   "codemirror_mode": {
    "name": "ipython",
    "version": 3
   },
   "file_extension": ".py",
   "mimetype": "text/x-python",
   "name": "python",
   "nbconvert_exporter": "python",
   "pygments_lexer": "ipython3",
   "version": "3.9.7"
  }
 },
 "nbformat": 4,
 "nbformat_minor": 5
}
